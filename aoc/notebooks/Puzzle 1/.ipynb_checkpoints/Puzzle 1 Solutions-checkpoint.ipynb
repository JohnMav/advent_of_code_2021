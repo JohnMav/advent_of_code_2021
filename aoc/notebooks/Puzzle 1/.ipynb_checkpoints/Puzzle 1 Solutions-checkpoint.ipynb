{
 "cells": [
  {
   "cell_type": "code",
   "execution_count": 25,
   "metadata": {},
   "outputs": [],
   "source": [
    "part_a_solution_sql = open(\"../../target/compiled/advent_of_code/analysis/puzzle_1_part_a.sql\").read()\n",
    "part_b_solution_sql = open(\"../../target/compiled/advent_of_code/analysis/puzzle_1_part_b.sql\").read()"
   ]
  },
  {
   "cell_type": "code",
   "execution_count": 19,
   "metadata": {},
   "outputs": [],
   "source": [
    "import psycopg2\n",
    "\n",
    "conn = psycopg2.connect(\n",
    "    host=\"localhost\",\n",
    "    database=\"postgres\",\n",
    "    user=\"johnmav\",\n",
    "    password=\"test\"\n",
    ")"
   ]
  },
  {
   "cell_type": "markdown",
   "metadata": {},
   "source": [
    "# Puzzle 1 Part A Solution"
   ]
  },
  {
   "cell_type": "code",
   "execution_count": 32,
   "metadata": {},
   "outputs": [
    {
     "name": "stdout",
     "output_type": "stream",
     "text": [
      "EXECUTING:\n",
      " SELECT\n",
      "    COUNT(\n",
      "        CASE WHEN increased\n",
      "             THEN row_number\n",
      "             ELSE NULL\n",
      "        END\n",
      "    ) AS depth_increase_count\n",
      "FROM \"postgres\".\"public\".\"puzzle_1_part_a\"\n",
      "-----------------------\n",
      "RESULT:\n",
      "1581\n"
     ]
    }
   ],
   "source": [
    "cur = conn.cursor()\n",
    "cur.execute(part_a_solution_sql)\n",
    "\n",
    "print(\"EXECUTING:\\n %s\" % part_a_solution_sql)\n",
    "print(\"-----------------------\")\n",
    "print(\"RESULT:\")\n",
    "print(cur.fetchall()[0][0])"
   ]
  },
  {
   "cell_type": "markdown",
   "metadata": {},
   "source": [
    "# Puzzle 1 Part B Solution"
   ]
  },
  {
   "cell_type": "code",
   "execution_count": 33,
   "metadata": {},
   "outputs": [
    {
     "name": "stdout",
     "output_type": "stream",
     "text": [
      "EXECUTING:\n",
      " SELECT\n",
      "    COUNT(\n",
      "        CASE WHEN increased\n",
      "             THEN group_number\n",
      "             ELSE NULL\n",
      "        END\n",
      "    ) AS depth_increase_count\n",
      "FROM \"postgres\".\"public\".\"puzzle_1_part_b\"\n",
      "-----------------------\n",
      "RESULT:\n",
      "1618\n"
     ]
    }
   ],
   "source": [
    "cur.execute(part_b_solution_sql)\n",
    "\n",
    "print(\"EXECUTING:\\n %s\" % part_b_solution_sql)\n",
    "print(\"-----------------------\")\n",
    "print(\"RESULT:\")\n",
    "print(cur.fetchall()[0][0])"
   ]
  },
  {
   "cell_type": "code",
   "execution_count": null,
   "metadata": {},
   "outputs": [],
   "source": []
  }
 ],
 "metadata": {
  "kernelspec": {
   "display_name": "Python 3",
   "language": "python",
   "name": "python3"
  },
  "language_info": {
   "codemirror_mode": {
    "name": "ipython",
    "version": 3
   },
   "file_extension": ".py",
   "mimetype": "text/x-python",
   "name": "python",
   "nbconvert_exporter": "python",
   "pygments_lexer": "ipython3",
   "version": "3.7.4"
  }
 },
 "nbformat": 4,
 "nbformat_minor": 2
}
